{
 "cells": [
  {
   "cell_type": "code",
   "execution_count": null,
   "id": "b50bb950",
   "metadata": {},
   "outputs": [],
   "source": [
    "a=1\n",
    "b=1\n",
    "c=1\n",
    "a+b+c"
   ]
  },
  {
   "cell_type": "code",
   "execution_count": null,
   "id": "f18bfa2c",
   "metadata": {},
   "outputs": [],
   "source": [
    "1a=1"
   ]
  },
  {
   "cell_type": "code",
   "execution_count": null,
   "id": "35d2fc0f",
   "metadata": {},
   "outputs": [],
   "source": [
    "a 1=1\n"
   ]
  },
  {
   "cell_type": "code",
   "execution_count": null,
   "id": "50631074",
   "metadata": {},
   "outputs": [],
   "source": [
    "a_1=1\n"
   ]
  },
  {
   "cell_type": "code",
   "execution_count": null,
   "id": "62caf7de",
   "metadata": {},
   "outputs": [],
   "source": [
    "_a=1"
   ]
  },
  {
   "cell_type": "code",
   "execution_count": null,
   "id": "22c20168",
   "metadata": {},
   "outputs": [],
   "source": [
    "_a1=1\n"
   ]
  },
  {
   "cell_type": "markdown",
   "id": "3ef3ac82",
   "metadata": {},
   "source": [
    " __a=1"
   ]
  },
  {
   "cell_type": "code",
   "execution_count": null,
   "id": "648803c7",
   "metadata": {},
   "outputs": [],
   "source": [
    "__a=1\n"
   ]
  },
  {
   "cell_type": "code",
   "execution_count": null,
   "id": "4ae013bd",
   "metadata": {},
   "outputs": [],
   "source": [
    "a@gmail.com=1"
   ]
  },
  {
   "cell_type": "code",
   "execution_count": null,
   "id": "27769290",
   "metadata": {},
   "outputs": [],
   "source": [
    "if=2"
   ]
  },
  {
   "cell_type": "code",
   "execution_count": null,
   "id": "e9a70b07",
   "metadata": {},
   "outputs": [],
   "source": [
    " "
   ]
  },
  {
   "cell_type": "code",
   "execution_count": null,
   "id": "2974af7b",
   "metadata": {
    "scrolled": true
   },
   "outputs": [],
   "source": [
    "a=1\n",
    "type(a)"
   ]
  },
  {
   "cell_type": "code",
   "execution_count": null,
   "id": "a97bd833",
   "metadata": {},
   "outputs": [],
   "source": [
    "count = 100         #integer assingment \n",
    "kilometer = 1000.0  #floot assignmente\n",
    "name = \"rushvik\" "
   ]
  },
  {
   "cell_type": "code",
   "execution_count": null,
   "id": "3d96773b",
   "metadata": {},
   "outputs": [],
   "source": [
    "print(count, kilometer,name )"
   ]
  },
  {
   "cell_type": "code",
   "execution_count": null,
   "id": "eb279455",
   "metadata": {},
   "outputs": [],
   "source": [
    "a,b,c=1,2,\"Rushvik\"\n",
    "print(a,b,c)"
   ]
  },
  {
   "cell_type": "code",
   "execution_count": null,
   "id": "07c149a0",
   "metadata": {},
   "outputs": [],
   "source": [
    "a=b=c=1\n",
    "print(a,b,c)"
   ]
  },
  {
   "cell_type": "code",
   "execution_count": null,
   "id": "0594bc14",
   "metadata": {},
   "outputs": [],
   "source": [
    "print(id(a))\n",
    "print(id(b))\n",
    "print(id(c))\n"
   ]
  },
  {
   "cell_type": "code",
   "execution_count": null,
   "id": "decc8a92",
   "metadata": {},
   "outputs": [],
   "source": [
    "a=1\n",
    "b=1\n",
    "c=1\n",
    "print(id(a))\n",
    "print(id(b))\n",
    "print(id(c))\n"
   ]
  },
  {
   "cell_type": "code",
   "execution_count": null,
   "id": "3bad7668",
   "metadata": {},
   "outputs": [],
   "source": [
    "a"
   ]
  },
  {
   "cell_type": "code",
   "execution_count": null,
   "id": "940f447d",
   "metadata": {},
   "outputs": [],
   "source": []
  },
  {
   "cell_type": "code",
   "execution_count": null,
   "id": "35f02d35",
   "metadata": {},
   "outputs": [],
   "source": [
    "del a"
   ]
  },
  {
   "cell_type": "code",
   "execution_count": null,
   "id": "37b2b262",
   "metadata": {},
   "outputs": [],
   "source": [
    "a"
   ]
  },
  {
   "cell_type": "code",
   "execution_count": null,
   "id": "109a4857",
   "metadata": {},
   "outputs": [],
   "source": [
    "d=3.13j"
   ]
  },
  {
   "cell_type": "code",
   "execution_count": null,
   "id": "6e0973d3",
   "metadata": {},
   "outputs": [],
   "source": [
    "type(d)"
   ]
  },
  {
   "cell_type": "raw",
   "id": "0a50c670",
   "metadata": {},
   "source": []
  },
  {
   "cell_type": "code",
   "execution_count": null,
   "id": "c74f8b21",
   "metadata": {},
   "outputs": [],
   "source": [
    "str1=\"python is language \"\n",
    "print(str1)"
   ]
  },
  {
   "cell_type": "code",
   "execution_count": null,
   "id": "639f535e",
   "metadata": {},
   "outputs": [],
   "source": [
    "a=6746\n",
    "a*2"
   ]
  },
  {
   "cell_type": "code",
   "execution_count": null,
   "id": "e4d429d9",
   "metadata": {},
   "outputs": [],
   "source": [
    "str1=\"Python is a programming language\"\n",
    "print(str1* 2\n",
    "     )"
   ]
  },
  {
   "cell_type": "code",
   "execution_count": null,
   "id": "258a1aa3",
   "metadata": {},
   "outputs": [],
   "source": [
    "str2='H\n",
    "1'\n",
    "print(str1+str2)"
   ]
  },
  {
   "cell_type": "code",
   "execution_count": null,
   "id": "3eba9321",
   "metadata": {},
   "outputs": [],
   "source": [
    "a=2\n",
    "print(id(a))"
   ]
  },
  {
   "cell_type": "code",
   "execution_count": null,
   "id": "a2e33496",
   "metadata": {},
   "outputs": [],
   "source": [
    "a=1\n",
    "print(id(a))\n"
   ]
  },
  {
   "cell_type": "code",
   "execution_count": null,
   "id": "89be5790",
   "metadata": {},
   "outputs": [],
   "source": [
    "a=[2,3]\n",
    "print(a[1])"
   ]
  },
  {
   "cell_type": "code",
   "execution_count": null,
   "id": "78da7259",
   "metadata": {},
   "outputs": [],
   "source": [
    "a=1\n",
    "print(id(a))\n",
    "b=2\n",
    "print(id(b))\n"
   ]
  },
  {
   "cell_type": "code",
   "execution_count": null,
   "id": "2d0425cc",
   "metadata": {},
   "outputs": [],
   "source": [
    "print(str1)"
   ]
  },
  {
   "cell_type": "code",
   "execution_count": null,
   "id": "3fa401cf",
   "metadata": {},
   "outputs": [],
   "source": [
    "print(str1[2:10])"
   ]
  },
  {
   "cell_type": "code",
   "execution_count": null,
   "id": "511cb377",
   "metadata": {},
   "outputs": [],
   "source": [
    "print(str1[6:18])"
   ]
  },
  {
   "cell_type": "code",
   "execution_count": null,
   "id": "3badaf13",
   "metadata": {},
   "outputs": [],
   "source": [
    "print(str1)"
   ]
  },
  {
   "cell_type": "code",
   "execution_count": null,
   "id": "bb72ea8f",
   "metadata": {},
   "outputs": [],
   "source": [
    "str2 = \"Python is a programming Language\""
   ]
  },
  {
   "cell_type": "code",
   "execution_count": null,
   "id": "930f93e1",
   "metadata": {},
   "outputs": [],
   "source": [
    "print(str2)"
   ]
  },
  {
   "cell_type": "code",
   "execution_count": null,
   "id": "4f723615",
   "metadata": {},
   "outputs": [],
   "source": [
    "print(\"12:23\")"
   ]
  },
  {
   "cell_type": "code",
   "execution_count": null,
   "id": "8aa89395",
   "metadata": {},
   "outputs": [],
   "source": [
    "print(str2[12:23])"
   ]
  },
  {
   "cell_type": "code",
   "execution_count": null,
   "id": "46b596e1",
   "metadata": {},
   "outputs": [],
   "source": [
    "str2.upper()"
   ]
  },
  {
   "cell_type": "code",
   "execution_count": null,
   "id": "c4529a68",
   "metadata": {},
   "outputs": [],
   "source": [
    "str2.split()"
   ]
  },
  {
   "cell_type": "code",
   "execution_count": null,
   "id": "ea3d8703",
   "metadata": {},
   "outputs": [],
   "source": [
    "str3=\"{0} {2} {1}\".format(\"python\", \"java\", \"clang\")\n",
    "print(str3)\n"
   ]
  },
  {
   "cell_type": "code",
   "execution_count": null,
   "id": "c758047b",
   "metadata": {},
   "outputs": [],
   "source": [
    "str3=\"{a} {b} {c}\".format(a=\"I\", b=\"am\", c=\"Good\")\n",
    "print(str3)"
   ]
  },
  {
   "cell_type": "code",
   "execution_count": null,
   "id": "4f9ac246",
   "metadata": {},
   "outputs": [],
   "source": [
    "str3=\"{c} {a} {b}\".format(a=\"I\", b=\"am\", c=\"Good\")\n",
    "print(str3)"
   ]
  },
  {
   "cell_type": "markdown",
   "id": "e79c2e5f",
   "metadata": {},
   "source": [
    "# List"
   ]
  },
  {
   "cell_type": "code",
   "execution_count": null,
   "id": "e8e67f93",
   "metadata": {},
   "outputs": [],
   "source": [
    "#list\n",
    "l=[1, 2, 3,'abc', 12.5]\n",
    "print(l[3][2])\n"
   ]
  },
  {
   "cell_type": "code",
   "execution_count": null,
   "id": "f7bcecb5",
   "metadata": {},
   "outputs": [],
   "source": [
    "ks=[1,2,3]\n",
    "ks+ks"
   ]
  },
  {
   "cell_type": "code",
   "execution_count": null,
   "id": "f78fd9de",
   "metadata": {},
   "outputs": [],
   "source": [
    "ps=[12,34,55]\n",
    "ps+ks"
   ]
  },
  {
   "cell_type": "code",
   "execution_count": null,
   "id": "ccff6db9",
   "metadata": {},
   "outputs": [],
   "source": [
    "\n",
    "ls2=[1,2,3]\n",
    "ls2*3\n",
    "\n",
    "\n",
    "\n",
    "\n",
    " "
   ]
  },
  {
   "cell_type": "code",
   "execution_count": null,
   "id": "da8b9276",
   "metadata": {},
   "outputs": [],
   "source": [
    "i\n"
   ]
  },
  {
   "cell_type": "code",
   "execution_count": null,
   "id": "4792198e",
   "metadata": {},
   "outputs": [],
   "source": [
    "l"
   ]
  },
  {
   "cell_type": "code",
   "execution_count": null,
   "id": "41059176",
   "metadata": {},
   "outputs": [],
   "source": [
    "l[0]=10"
   ]
  },
  {
   "cell_type": "code",
   "execution_count": null,
   "id": "384b66a5",
   "metadata": {},
   "outputs": [],
   "source": [
    "l"
   ]
  },
  {
   "cell_type": "code",
   "execution_count": null,
   "id": "e2a380d6",
   "metadata": {},
   "outputs": [],
   "source": [
    "print(id(l[0]))"
   ]
  },
  {
   "cell_type": "code",
   "execution_count": null,
   "id": "80d8cc4c",
   "metadata": {},
   "outputs": [],
   "source": [
    "print(id(l))"
   ]
  },
  {
   "cell_type": "code",
   "execution_count": null,
   "id": "8e9937ee",
   "metadata": {},
   "outputs": [],
   "source": [
    "print(id(l[1]))"
   ]
  },
  {
   "cell_type": "code",
   "execution_count": null,
   "id": "d1cd8f65",
   "metadata": {},
   "outputs": [],
   "source": [
    "l[1]=4"
   ]
  },
  {
   "cell_type": "code",
   "execution_count": null,
   "id": "39a4d90a",
   "metadata": {},
   "outputs": [],
   "source": [
    "print(id(l[1]))"
   ]
  },
  {
   "cell_type": "code",
   "execution_count": null,
   "id": "00f2bffd",
   "metadata": {},
   "outputs": [],
   "source": [
    "l2=\"rushvik\"\n",
    "print(id(l2))"
   ]
  },
  {
   "cell_type": "code",
   "execution_count": null,
   "id": "88c22587",
   "metadata": {},
   "outputs": [],
   "source": [
    "id(l2[1])"
   ]
  },
  {
   "cell_type": "code",
   "execution_count": null,
   "id": "2747aba9",
   "metadata": {},
   "outputs": [],
   "source": [
    "l2=\"n\"+l2[1:]\n",
    "l2"
   ]
  },
  {
   "cell_type": "code",
   "execution_count": null,
   "id": "8865e098",
   "metadata": {},
   "outputs": [],
   "source": [
    "id(l2[1])"
   ]
  },
  {
   "cell_type": "code",
   "execution_count": null,
   "id": "ebe13a53",
   "metadata": {},
   "outputs": [],
   "source": [
    "id(l2)"
   ]
  },
  {
   "cell_type": "code",
   "execution_count": null,
   "id": "997a7fb9",
   "metadata": {},
   "outputs": [],
   "source": [
    "a=int(input(\"Enter Your age \"))\n"
   ]
  },
  {
   "cell_type": "code",
   "execution_count": null,
   "id": "e044fa5a",
   "metadata": {},
   "outputs": [],
   "source": [
    "a"
   ]
  },
  {
   "cell_type": "code",
   "execution_count": null,
   "id": "c071e5f4",
   "metadata": {},
   "outputs": [],
   "source": [
    "type(a)"
   ]
  },
  {
   "cell_type": "code",
   "execution_count": null,
   "id": "2768172a",
   "metadata": {},
   "outputs": [],
   "source": [
    "a*2"
   ]
  },
  {
   "cell_type": "code",
   "execution_count": null,
   "id": "8751819c",
   "metadata": {},
   "outputs": [],
   "source": [
    "a=input(\"enter sequence: \")"
   ]
  },
  {
   "cell_type": "code",
   "execution_count": null,
   "id": "2ae4a4e3",
   "metadata": {},
   "outputs": [],
   "source": [
    "a"
   ]
  },
  {
   "cell_type": "markdown",
   "id": "d1416360",
   "metadata": {},
   "source": [
    "# Tuple\n"
   ]
  },
  {
   "cell_type": "code",
   "execution_count": null,
   "id": "8ca78dd3",
   "metadata": {},
   "outputs": [],
   "source": [
    "#Tuple\n",
    "tuple1 = ('abcd', 786, 7.4, \"john\",80.2)"
   ]
  },
  {
   "cell_type": "code",
   "execution_count": null,
   "id": "714ddc84",
   "metadata": {},
   "outputs": [],
   "source": [
    "tuple1"
   ]
  },
  {
   "cell_type": "code",
   "execution_count": null,
   "id": "e49560e9",
   "metadata": {},
   "outputs": [],
   "source": [
    "tuple1[0]"
   ]
  },
  {
   "cell_type": "code",
   "execution_count": null,
   "id": "2cd73e98",
   "metadata": {},
   "outputs": [],
   "source": [
    "tuple1[1]='hi'"
   ]
  },
  {
   "cell_type": "code",
   "execution_count": null,
   "id": "5b32d402",
   "metadata": {
    "scrolled": false
   },
   "outputs": [],
   "source": [
    "tuple1*4"
   ]
  },
  {
   "cell_type": "markdown",
   "id": "bb9b43ca",
   "metadata": {},
   "source": [
    "# Dictionary"
   ]
  },
  {
   "cell_type": "code",
   "execution_count": null,
   "id": "40b29102",
   "metadata": {},
   "outputs": [],
   "source": [
    "dict1 = {}"
   ]
  },
  {
   "cell_type": "code",
   "execution_count": null,
   "id": "7d6556f7",
   "metadata": {},
   "outputs": [],
   "source": [
    "dict1"
   ]
  },
  {
   "cell_type": "code",
   "execution_count": null,
   "id": "a277df1b",
   "metadata": {},
   "outputs": [],
   "source": [
    "dict1['one'] = \"this is Python\""
   ]
  },
  {
   "cell_type": "code",
   "execution_count": null,
   "id": "45f70256",
   "metadata": {},
   "outputs": [],
   "source": [
    "dict1"
   ]
  },
  {
   "cell_type": "code",
   "execution_count": null,
   "id": "56673ee3",
   "metadata": {},
   "outputs": [],
   "source": [
    "type(dict1)"
   ]
  },
  {
   "cell_type": "code",
   "execution_count": null,
   "id": "b5874bfe",
   "metadata": {},
   "outputs": [],
   "source": [
    "dict1['one'] = \"this is Python\"\n",
    "dict1[2] = \"this is java\"\n"
   ]
  },
  {
   "cell_type": "code",
   "execution_count": null,
   "id": "999e9aa2",
   "metadata": {},
   "outputs": [],
   "source": [
    "dict1"
   ]
  },
  {
   "cell_type": "code",
   "execution_count": null,
   "id": "9f837e3f",
   "metadata": {},
   "outputs": [],
   "source": [
    "dict2 = {\n",
    "    'name':'rohit',\n",
    "    'id': 1234,\n",
    "    'dept': 'IT'\n",
    "}"
   ]
  },
  {
   "cell_type": "code",
   "execution_count": null,
   "id": "78d8c4ed",
   "metadata": {},
   "outputs": [],
   "source": [
    "dict2"
   ]
  },
  {
   "cell_type": "code",
   "execution_count": null,
   "id": "f197dd73",
   "metadata": {},
   "outputs": [],
   "source": [
    "dict2['name']"
   ]
  },
  {
   "cell_type": "code",
   "execution_count": null,
   "id": "e1b9cee4",
   "metadata": {},
   "outputs": [],
   "source": [
    "dict2['id']"
   ]
  },
  {
   "cell_type": "code",
   "execution_count": null,
   "id": "7949a5b2",
   "metadata": {},
   "outputs": [],
   "source": [
    "dict2['dept']"
   ]
  },
  {
   "cell_type": "code",
   "execution_count": null,
   "id": "5a81e8ad",
   "metadata": {},
   "outputs": [],
   "source": [
    "print(dict2.keys())"
   ]
  },
  {
   "cell_type": "markdown",
   "id": "a05a7a7b",
   "metadata": {},
   "source": [
    "# While Loop"
   ]
  },
  {
   "cell_type": "code",
   "execution_count": null,
   "id": "a915bf4d",
   "metadata": {},
   "outputs": [],
   "source": [
    "num=0\n",
    "while(num<10):\n",
    "    print(num)\n",
    "    num+=1"
   ]
  },
  {
   "cell_type": "code",
   "execution_count": null,
   "id": "947db794",
   "metadata": {},
   "outputs": [],
   "source": [
    "while(count < 5):\n",
    "    print(count, \" is less than 5\")\n",
    "    count +=1\n",
    "else:\n",
    "    print(count, \" is not less than 5\")"
   ]
  },
  {
   "cell_type": "markdown",
   "id": "55b38deb",
   "metadata": {},
   "source": [
    "# For Loop"
   ]
  },
  {
   "cell_type": "code",
   "execution_count": null,
   "id": "c6226e3b",
   "metadata": {},
   "outputs": [],
   "source": [
    "a= [1,2,3,4,5]\n",
    "for i in a:\n",
    "    print(i)"
   ]
  },
  {
   "cell_type": "code",
   "execution_count": null,
   "id": "ab3e6350",
   "metadata": {},
   "outputs": [],
   "source": [
    "a = input(\" enter your name\")"
   ]
  },
  {
   "cell_type": "code",
   "execution_count": null,
   "id": "30b32e96",
   "metadata": {},
   "outputs": [],
   "source": [
    "total = 0\n",
    "for i in a:\n",
    "    print(i)\n",
    "    total+=1\n",
    "    \n",
    "print(total)"
   ]
  },
  {
   "cell_type": "markdown",
   "id": "89857fe9",
   "metadata": {},
   "source": [
    "# Numpy"
   ]
  },
  {
   "cell_type": "code",
   "execution_count": null,
   "id": "e4332771",
   "metadata": {},
   "outputs": [],
   "source": [
    "a=[2,3]\n",
    "a*2"
   ]
  },
  {
   "cell_type": "code",
   "execution_count": 1,
   "id": "2ad8b3d3",
   "metadata": {},
   "outputs": [],
   "source": [
    "import numpy as np "
   ]
  },
  {
   "cell_type": "code",
   "execution_count": null,
   "id": "29a31562",
   "metadata": {},
   "outputs": [],
   "source": [
    "a*2"
   ]
  },
  {
   "cell_type": "code",
   "execution_count": 2,
   "id": "7254a434",
   "metadata": {},
   "outputs": [
    {
     "name": "stdout",
     "output_type": "stream",
     "text": [
      "Requirement already satisfied: numpy in c:\\users\\sap\\anaconda3\\lib\\site-packages (1.21.5)\n"
     ]
    }
   ],
   "source": [
    "!pip install numpy"
   ]
  },
  {
   "cell_type": "code",
   "execution_count": 4,
   "id": "40237da0",
   "metadata": {},
   "outputs": [
    {
     "ename": "NameError",
     "evalue": "name 'a' is not defined",
     "output_type": "error",
     "traceback": [
      "\u001b[1;31m---------------------------------------------------------------------------\u001b[0m",
      "\u001b[1;31mNameError\u001b[0m                                 Traceback (most recent call last)",
      "Input \u001b[1;32mIn [4]\u001b[0m, in \u001b[0;36m<cell line: 1>\u001b[1;34m()\u001b[0m\n\u001b[1;32m----> 1\u001b[0m a_n\u001b[38;5;241m=\u001b[39mnp\u001b[38;5;241m.\u001b[39marray(\u001b[43ma\u001b[49m)\n",
      "\u001b[1;31mNameError\u001b[0m: name 'a' is not defined"
     ]
    }
   ],
   "source": [
    "a_n=np.array(a)\n"
   ]
  },
  {
   "cell_type": "code",
   "execution_count": null,
   "id": "0da86dc2",
   "metadata": {},
   "outputs": [],
   "source": [
    "a_n"
   ]
  },
  {
   "cell_type": "code",
   "execution_count": null,
   "id": "ae79eeac",
   "metadata": {},
   "outputs": [],
   "source": [
    "a_n*2"
   ]
  },
  {
   "cell_type": "code",
   "execution_count": null,
   "id": "b776a54f",
   "metadata": {},
   "outputs": [],
   "source": [
    "marks=[23,20,15,18,27,21,12,14,29,30]\n",
    "marks=np.array(marks)"
   ]
  },
  {
   "cell_type": "code",
   "execution_count": null,
   "id": "2bb46395",
   "metadata": {},
   "outputs": [],
   "source": [
    "np.mean(marks)"
   ]
  },
  {
   "cell_type": "code",
   "execution_count": null,
   "id": "7844eed3",
   "metadata": {},
   "outputs": [],
   "source": [
    "np.amin(marks)"
   ]
  },
  {
   "cell_type": "code",
   "execution_count": null,
   "id": "c35942e1",
   "metadata": {},
   "outputs": [],
   "source": [
    "np.amax(marks)"
   ]
  },
  {
   "cell_type": "code",
   "execution_count": null,
   "id": "9ead134e",
   "metadata": {},
   "outputs": [],
   "source": [
    "np.mean(marks)"
   ]
  },
  {
   "cell_type": "code",
   "execution_count": null,
   "id": "c346610b",
   "metadata": {},
   "outputs": [],
   "source": [
    "np.median(marks)"
   ]
  },
  {
   "cell_type": "code",
   "execution_count": null,
   "id": "271f49fb",
   "metadata": {},
   "outputs": [],
   "source": [
    "np.ptp(marks)"
   ]
  },
  {
   "cell_type": "code",
   "execution_count": null,
   "id": "3cc5e688",
   "metadata": {},
   "outputs": [],
   "source": [
    "np.std(marks)"
   ]
  },
  {
   "cell_type": "code",
   "execution_count": null,
   "id": "60f6ddbe",
   "metadata": {},
   "outputs": [],
   "source": [
    "np.var(marks)"
   ]
  },
  {
   "cell_type": "code",
   "execution_count": null,
   "id": "55af111b",
   "metadata": {},
   "outputs": [],
   "source": [
    "np.average(marks)"
   ]
  },
  {
   "cell_type": "code",
   "execution_count": null,
   "id": "dada8139",
   "metadata": {},
   "outputs": [],
   "source": [
    "x=[34,45,56,64]\n",
    "x_n=np.array(x)\n",
    "print(np.std(x_n))"
   ]
  },
  {
   "cell_type": "code",
   "execution_count": null,
   "id": "51780b67",
   "metadata": {},
   "outputs": [],
   "source": [
    "ss=np.mean((x_n-np.mean(x_n))**2)"
   ]
  },
  {
   "cell_type": "code",
   "execution_count": null,
   "id": "a576e4dd",
   "metadata": {},
   "outputs": [],
   "source": [
    "ss"
   ]
  },
  {
   "cell_type": "code",
   "execution_count": null,
   "id": "f0e6c652",
   "metadata": {},
   "outputs": [],
   "source": [
    "np.sqrt(ss)"
   ]
  },
  {
   "cell_type": "code",
   "execution_count": 8,
   "id": "08b7468f",
   "metadata": {},
   "outputs": [],
   "source": [
    "from numpy import random"
   ]
  },
  {
   "cell_type": "code",
   "execution_count": null,
   "id": "6923afcd",
   "metadata": {},
   "outputs": [],
   "source": [
    "int(random.rand()*10)"
   ]
  },
  {
   "cell_type": "code",
   "execution_count": null,
   "id": "a97dffea",
   "metadata": {},
   "outputs": [],
   "source": [
    " x=2.75"
   ]
  },
  {
   "cell_type": "code",
   "execution_count": null,
   "id": "547674e0",
   "metadata": {},
   "outputs": [],
   "source": [
    "x=1+(1-3.5)*x"
   ]
  },
  {
   "cell_type": "code",
   "execution_count": 9,
   "id": "1b31c59c",
   "metadata": {},
   "outputs": [
    {
     "name": "stdout",
     "output_type": "stream",
     "text": [
      "0.15416284237967237\n",
      "0.7400496965154048\n",
      "0.26331501518513467\n",
      "0.5337393933802977\n",
      "0.014574962485419674\n",
      "0.918747008099885\n",
      "0.9007148541170122\n",
      "0.03342142762634459\n",
      "0.9569493362751168\n",
      "0.13720932135607644\n"
     ]
    }
   ],
   "source": [
    "random.seed(12)\n",
    "for i in range(10):\n",
    "    print(random.rand())"
   ]
  },
  {
   "cell_type": "code",
   "execution_count": 10,
   "id": "dc21c508",
   "metadata": {
    "scrolled": true
   },
   "outputs": [
    {
     "data": {
      "text/plain": [
       "4"
      ]
     },
     "execution_count": 10,
     "metadata": {},
     "output_type": "execute_result"
    }
   ],
   "source": [
    "b= [1, 3, 4]\n",
    "b[2]"
   ]
  },
  {
   "cell_type": "code",
   "execution_count": 12,
   "id": "60b7b903",
   "metadata": {},
   "outputs": [
    {
     "data": {
      "text/plain": [
       "3"
      ]
     },
     "execution_count": 12,
     "metadata": {},
     "output_type": "execute_result"
    }
   ],
   "source": [
    "c = [[1,2],[3,4]]\n",
    "c[1][0]"
   ]
  },
  {
   "cell_type": "code",
   "execution_count": 17,
   "id": "98c8571d",
   "metadata": {},
   "outputs": [],
   "source": [
    "import numpy as np \n",
    "c_n=np.array(c)"
   ]
  },
  {
   "cell_type": "code",
   "execution_count": 18,
   "id": "d78d27c7",
   "metadata": {},
   "outputs": [
    {
     "data": {
      "text/plain": [
       "array([[1, 2],\n",
       "       [3, 4]])"
      ]
     },
     "execution_count": 18,
     "metadata": {},
     "output_type": "execute_result"
    }
   ],
   "source": [
    "c_n"
   ]
  },
  {
   "cell_type": "code",
   "execution_count": 19,
   "id": "7c5a5471",
   "metadata": {},
   "outputs": [
    {
     "data": {
      "text/plain": [
       "dtype('int32')"
      ]
     },
     "execution_count": 19,
     "metadata": {},
     "output_type": "execute_result"
    }
   ],
   "source": [
    "c_n.dtype"
   ]
  },
  {
   "cell_type": "code",
   "execution_count": 20,
   "id": "d6788b16",
   "metadata": {},
   "outputs": [
    {
     "data": {
      "text/plain": [
       "(8, 4)"
      ]
     },
     "execution_count": 20,
     "metadata": {},
     "output_type": "execute_result"
    }
   ],
   "source": [
    "c_n.strides"
   ]
  },
  {
   "cell_type": "code",
   "execution_count": 21,
   "id": "1c88df12",
   "metadata": {},
   "outputs": [
    {
     "data": {
      "text/plain": [
       "array([[2, 3],\n",
       "       [4, 5]])"
      ]
     },
     "execution_count": 21,
     "metadata": {},
     "output_type": "execute_result"
    }
   ],
   "source": [
    "c_n+1"
   ]
  },
  {
   "cell_type": "code",
   "execution_count": 22,
   "id": "126dc8f7",
   "metadata": {},
   "outputs": [
    {
     "data": {
      "text/plain": [
       "(2, 2)"
      ]
     },
     "execution_count": 22,
     "metadata": {},
     "output_type": "execute_result"
    }
   ],
   "source": [
    "c_n.shape"
   ]
  },
  {
   "cell_type": "code",
   "execution_count": 23,
   "id": "40989eaa",
   "metadata": {},
   "outputs": [],
   "source": [
    "d_n=np.array([1])"
   ]
  },
  {
   "cell_type": "code",
   "execution_count": 24,
   "id": "44fa0f5d",
   "metadata": {},
   "outputs": [
    {
     "data": {
      "text/plain": [
       "(1,)"
      ]
     },
     "execution_count": 24,
     "metadata": {},
     "output_type": "execute_result"
    }
   ],
   "source": [
    "d_n.shape"
   ]
  },
  {
   "cell_type": "code",
   "execution_count": 25,
   "id": "cb92302c",
   "metadata": {},
   "outputs": [],
   "source": [
    "import numpy as np"
   ]
  },
  {
   "cell_type": "code",
   "execution_count": 36,
   "id": "7a22ed90",
   "metadata": {},
   "outputs": [],
   "source": [
    "a=np.loadtxt(\"https://raw.githubusercontent.com/goradbj/MachineLearning/main/cric.tsv\",skiprows=1)"
   ]
  },
  {
   "cell_type": "code",
   "execution_count": 46,
   "id": "1468c99a",
   "metadata": {},
   "outputs": [
    {
     "data": {
      "text/plain": [
       "71.06666666666666"
      ]
     },
     "execution_count": 46,
     "metadata": {},
     "output_type": "execute_result"
    }
   ],
   "source": [
    "dravid_runs=a[:,2]\n",
    "np.mean(dravid_runs)"
   ]
  },
  {
   "cell_type": "code",
   "execution_count": 44,
   "id": "f736dad7",
   "metadata": {},
   "outputs": [
    {
     "data": {
      "text/plain": [
       "63.6"
      ]
     },
     "execution_count": 44,
     "metadata": {},
     "output_type": "execute_result"
    }
   ],
   "source": [
    "sachin_runs=a[:,1]\n",
    "np.mean(sachin_runs)"
   ]
  },
  {
   "cell_type": "code",
   "execution_count": 47,
   "id": "f0a53d95",
   "metadata": {},
   "outputs": [
    {
     "data": {
      "text/plain": [
       "281.26666666666665"
      ]
     },
     "execution_count": 47,
     "metadata": {},
     "output_type": "execute_result"
    }
   ],
   "source": [
    "india_runs=a[:,3]\n",
    "np.mean(india_runs)"
   ]
  },
  {
   "cell_type": "code",
   "execution_count": 48,
   "id": "fd7009f4",
   "metadata": {},
   "outputs": [
    {
     "data": {
      "text/plain": [
       "array([[1.        , 0.44853003],\n",
       "       [0.44853003, 1.        ]])"
      ]
     },
     "execution_count": 48,
     "metadata": {},
     "output_type": "execute_result"
    }
   ],
   "source": [
    "np.corrcoef(dravid_runs,india_runs)"
   ]
  },
  {
   "cell_type": "code",
   "execution_count": 49,
   "id": "a9c1465f",
   "metadata": {},
   "outputs": [
    {
     "data": {
      "text/plain": [
       "array([[1.        , 0.70460106],\n",
       "       [0.70460106, 1.        ]])"
      ]
     },
     "execution_count": 49,
     "metadata": {},
     "output_type": "execute_result"
    }
   ],
   "source": [
    "np.corrcoef(sachin_runs,india_runs)"
   ]
  },
  {
   "cell_type": "code",
   "execution_count": null,
   "id": "bab22451",
   "metadata": {},
   "outputs": [],
   "source": []
  }
 ],
 "metadata": {
  "kernelspec": {
   "display_name": "Python 3 (ipykernel)",
   "language": "python",
   "name": "python3"
  },
  "language_info": {
   "codemirror_mode": {
    "name": "ipython",
    "version": 3
   },
   "file_extension": ".py",
   "mimetype": "text/x-python",
   "name": "python",
   "nbconvert_exporter": "python",
   "pygments_lexer": "ipython3",
   "version": "3.9.12"
  }
 },
 "nbformat": 4,
 "nbformat_minor": 5
}
